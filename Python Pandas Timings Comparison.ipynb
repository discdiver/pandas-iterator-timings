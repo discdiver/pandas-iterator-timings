{
 "cells": [
  {
   "cell_type": "markdown",
   "metadata": {},
   "source": [
    "# A comparison of Python Pandas row iteration method timings"
   ]
  },
  {
   "cell_type": "markdown",
   "metadata": {},
   "source": [
    "The speed differences between different iteration methods for iterating through rows in a pandas dataframe can be huge. \n",
    "\n",
    "This is an exploration of the speed of different methods for splitting strings. The pandas method pd.column_name.str.split() method and a for loop with row.itertuples were found to be the fastest methods.\n",
    "\n",
    "The data consist of a csv with a series 216,930 rows of Jeopardy questions. \n",
    "\n",
    "This question was inspired by a DataQuest problem that used iterrows(). Take away, don't use iterrows(). Scroll down for a graph of speeds of the different metods."
   ]
  },
  {
   "cell_type": "code",
   "execution_count": 76,
   "metadata": {},
   "outputs": [
    {
     "name": "stdout",
     "output_type": "stream",
     "text": [
      "   Show Number    Air Date      Round                         Category  Value  \\\n",
      "0         4680  2004-12-31  Jeopardy!                          HISTORY   $200   \n",
      "1         4680  2004-12-31  Jeopardy!  ESPN's TOP 10 ALL-TIME ATHLETES   $200   \n",
      "2         4680  2004-12-31  Jeopardy!      EVERYBODY TALKS ABOUT IT...   $200   \n",
      "3         4680  2004-12-31  Jeopardy!                 THE COMPANY LINE   $200   \n",
      "4         4680  2004-12-31  Jeopardy!              EPITAPHS & TRIBUTES   $200   \n",
      "\n",
      "                                            Question      Answer  \n",
      "0  For the last 8 years of his life, Galileo was ...  Copernicus  \n",
      "1  No. 2: 1912 Olympian; football star at Carlisl...  Jim Thorpe  \n",
      "2  The city of Yuma in this state has a record av...     Arizona  \n",
      "3  In 1963, live on \"The Art Linkletter Show\", th...  McDonald's  \n",
      "4  Signer of the Dec. of Indep., framer of the Co...  John Adams  \n",
      "(216930, 7)\n"
     ]
    }
   ],
   "source": [
    "import numpy as np\n",
    "import pandas as pd\n",
    "import matplotlib.pyplot as plt\n",
    "%matplotlib inline\n",
    "\n",
    "\n",
    "jeopardy = pd.read_csv('JEOPARDY_CSV.csv')\n",
    "print(jeopardy.head())\n",
    "print(jeopardy.shape)"
   ]
  },
  {
   "cell_type": "code",
   "execution_count": 77,
   "metadata": {
    "collapsed": true
   },
   "outputs": [],
   "source": [
    "# timeit decorator adapted from \n",
    "# https://medium.com/pythonhive/python-decorator-to-measure-the-execution-time-of-methods-fa04cb6bb36d\n",
    "import time\n",
    "times = {}\n",
    "\n",
    "def timeit(method):\n",
    "    def timed(*args, **kw):\n",
    "        ts = time.time()\n",
    "        result = method(*args, **kw)\n",
    "        te = time.time()\n",
    "        if 'log_time' in kw:\n",
    "            name = kw.get('log_name', method.__name__.upper())\n",
    "            kw['log_time'][name] = int((te - ts) * 1000)\n",
    "        else:\n",
    "            print ('{} {} ms'.format(method.__name__, (te - ts) * 1000))\n",
    "            times[method.__name__] = ((te-ts)*1000)\n",
    "        return result\n",
    "    return timed"
   ]
  },
  {
   "cell_type": "markdown",
   "metadata": {},
   "source": [
    "Using matplot lib to plot the timings.\n",
    "\n",
    "Comparing question and answer terms in common from about 2,000 rows of Jeopardy! data.\n",
    "Next cell gets the code ready to use.\n",
    "Dataquest was suggesting to use iterrows, so adding the code.\n"
   ]
  },
  {
   "cell_type": "code",
   "execution_count": 78,
   "metadata": {
    "collapsed": true
   },
   "outputs": [],
   "source": [
    "jeopardy.columns = ['Show Number', 'Air Date', 'Round', 'Category', 'Value', 'Question', 'Answer']"
   ]
  },
  {
   "cell_type": "code",
   "execution_count": 79,
   "metadata": {},
   "outputs": [
    {
     "name": "stdout",
     "output_type": "stream",
     "text": [
      "itertuples_example 514.523983001709 ms\n",
      "None\n"
     ]
    }
   ],
   "source": [
    "@timeit\n",
    "def itertuples_example():\n",
    "    for row in jeopardy.itertuples(): \n",
    "        split_question = row.Question.split(\" \")\n",
    "        # print(type(split_question))\n",
    "        # print(type(split_question[0]))\n",
    "        # print(split_question)\n",
    "    return\n",
    "\n",
    "print(itertuples_example())\n",
    "# returns a list of strings for each row"
   ]
  },
  {
   "cell_type": "code",
   "execution_count": 80,
   "metadata": {},
   "outputs": [
    {
     "name": "stdout",
     "output_type": "stream",
     "text": [
      "iterrows_example 17264.178037643433 ms\n",
      "None\n"
     ]
    }
   ],
   "source": [
    "@timeit\n",
    "def iterrows_example():\n",
    "    for i, row in jeopardy.iterrows(): \n",
    "        split_question = row.Question.split(\" \")\n",
    "        # print(type(split_question))\n",
    "        # print(type(split_question[0]))\n",
    "        # print(split_question.head())\n",
    "    return\n",
    "\n",
    "print(iterrows_example())\n",
    "# returns list of strings for each row"
   ]
  },
  {
   "cell_type": "code",
   "execution_count": 81,
   "metadata": {},
   "outputs": [
    {
     "name": "stdout",
     "output_type": "stream",
     "text": [
      "iteritems_example 17156.385898590088 ms\n",
      "None\n"
     ]
    }
   ],
   "source": [
    "@timeit\n",
    "def iteritems_example():\n",
    "    for i, row in jeopardy.T.iteritems(): \n",
    "        split_question = row.Question.split(\" \")\n",
    "        # print(split_question)\n",
    "        # print(type(split_question))\n",
    "        # print(type(split_question[0]))\n",
    "    return\n",
    "\n",
    "print(iteritems_example())\n",
    "#returns a list of strings for each row\n",
    "        "
   ]
  },
  {
   "cell_type": "code",
   "execution_count": 82,
   "metadata": {},
   "outputs": [
    {
     "name": "stdout",
     "output_type": "stream",
     "text": [
      "items_example 16836.946964263916 ms\n",
      "None\n"
     ]
    }
   ],
   "source": [
    "@timeit\n",
    "def items_example():\n",
    "    for i, row in jeopardy.T.items(): \n",
    "        split_question = row.Question.split(\" \")\n",
    "        # print(type(split_question))\n",
    "        # print(split_question)\n",
    "    return\n",
    "\n",
    "print(items_example())\n",
    "#returns a list of strings in quotes for each row\n",
    "        "
   ]
  },
  {
   "cell_type": "code",
   "execution_count": 83,
   "metadata": {},
   "outputs": [
    {
     "name": "stdout",
     "output_type": "stream",
     "text": [
      "column_str_example 657.7248573303223 ms\n",
      "None\n"
     ]
    }
   ],
   "source": [
    "@timeit\n",
    "def column_str_example():\n",
    "    split_question = jeopardy.Question.str.split(' ')\n",
    "    # print(type(split_question))\n",
    "    # print(split_question)\n",
    "    # print(type(split_question[0]))\n",
    "    return\n",
    "\n",
    "print(column_str_example())\n",
    "# this is fast because it uses built in pandas string processing on the whole column\n",
    "# returns a pandas series containing lists of strings\n"
   ]
  },
  {
   "cell_type": "code",
   "execution_count": 84,
   "metadata": {},
   "outputs": [
    {
     "name": "stdout",
     "output_type": "stream",
     "text": [
      "apply_example 4551.218271255493 ms\n",
      "None\n"
     ]
    }
   ],
   "source": [
    "@timeit\n",
    "def apply_example():\n",
    "    def x(row):\n",
    "        split_question = row.Question.split(\" \")\n",
    "        # print(type(split_question))\n",
    "        # print(type(split_question[0]))\n",
    "        return\n",
    "    y = jeopardy.apply(x, axis = 1)\n",
    "    return\n",
    "\n",
    "print(apply_example())\n",
    "# returns list of strings for each row"
   ]
  },
  {
   "cell_type": "code",
   "execution_count": 85,
   "metadata": {},
   "outputs": [
    {
     "data": {
      "text/plain": [
       "'@timeit\\ndef iloc_example():\\n    split_question = []\\n    for i in range(len(jeopardy[\\'Question\\'])):\\n        split_question.append(jeopardy.iloc[i][\\'Question\\'].split(\" \"))\\n    # print(split_question)\\n    # print(type(split_question))\\n    # print(type(split_question[0]))\\n    return\\n\\nprint(iloc_example())\\n'"
      ]
     },
     "execution_count": 85,
     "metadata": {},
     "output_type": "execute_result"
    }
   ],
   "source": [
    "'''@timeit\n",
    "def iloc_example():\n",
    "    split_question = []\n",
    "    for i in range(len(jeopardy['Question'])):\n",
    "        split_question.append(jeopardy.iloc[i]['Question'].split(\" \"))\n",
    "    # print(split_question)\n",
    "    # print(type(split_question))\n",
    "    # print(type(split_question[0]))\n",
    "    return\n",
    "\n",
    "print(iloc_example())\n",
    "'''\n",
    "# Super slow - didn't even finish\n",
    "# Too much io for jupyter to complete\n",
    "# Error message:\n",
    "# IOPub data rate exceeded.\n",
    "# The notebook server will temporarily stop sending output\n",
    "# to the client in order to avoid crashing it.\n",
    "# To change this limit, set the config variable\n",
    "# `--NotebookApp.iopub_data_rate_limit`. "
   ]
  },
  {
   "cell_type": "code",
   "execution_count": 86,
   "metadata": {},
   "outputs": [
    {
     "name": "stdout",
     "output_type": "stream",
     "text": [
      "map_example 889.0759944915771 ms\n",
      "None\n"
     ]
    }
   ],
   "source": [
    "@timeit\n",
    "def map_example():\n",
    "    split_question = jeopardy['Question'].map(lambda x: x.split(\" \"))\n",
    "    # print(type(split_question))\n",
    "    # print(split_question.head())\n",
    "    # print(type(split_question[0]))\n",
    "    # print((split_question).dtype)\n",
    "    \n",
    "    return\n",
    "\n",
    "print(map_example())\n",
    "# returns a pandas series of list of object (how pandas stores string data)"
   ]
  },
  {
   "cell_type": "code",
   "execution_count": 87,
   "metadata": {},
   "outputs": [
    {
     "name": "stdout",
     "output_type": "stream",
     "text": [
      "['itertuples_example', 'column_str_example', 'map_example', 'apply_example', 'items_example', 'iteritems_example', 'iterrows_example'] [514.523983001709, 657.7248573303223, 889.0759944915771, 4551.218271255493, 16836.946964263916, 17156.385898590088, 17264.178037643433]\n"
     ]
    },
    {
     "data": {
      "image/png": "[encoded data removed]",
      "text/plain": [
       "<matplotlib.figure.Figure at 0x11d1fab70>"
      ]
     },
     "metadata": {},
     "output_type": "display_data"
    }
   ],
   "source": [
    "from operator import itemgetter\n",
    "\n",
    "# this is generally the fastest way to sort a dictionary\n",
    "# returns a list of tuples\n",
    "times_tup = sorted(times.items(), key = itemgetter(1), reverse = False)\n",
    "\n",
    "names = [x[0] for x in times_tup]\n",
    "heights = [y[1] for y in times_tup]\n",
    "print(names, heights)\n",
    "\n",
    "fig, ax = plt.subplots()\n",
    "ax.bar(range(len(names)), heights)\n",
    "ax.set_title(\"Large Differences in Exectution Time by Iteration Method\")\n",
    "ax.set_xlabel(\"Method\")\n",
    "ax.set_ylabel(\"Execution Time (ms)\")\n",
    "ax.set_xticks(range(len(names)))\n",
    "ax.set_xticklabels(names, rotation = 90)\n",
    "plt.show()"
   ]
  },
  {
   "cell_type": "markdown",
   "metadata": {},
   "source": [
    "## Bottom line, use vectorized operations whenever possible. Avoid .iterrows, .iteritems, .items for iterating through rows in a pandas dataframe."
   ]
  },
  {
   "cell_type": "markdown",
   "metadata": {},
   "source": [
    "My original rough thoughts and some source notes about trying to find the fastest way to iterate over rows in Pandas\n",
    "\n",
    "To explore, made a dataframe from Jeopardy Questions. Timed with a decorator. \n",
    "\n",
    "Caveats: This exploration doesn't speak to memory usage or what could be run in parallel. Different size data frames might yield different results.\n",
    "\n",
    "Also didn't look at writing in Cython. \n",
    "\n",
    "The form of the resulting data also differs slightly.\n",
    "\n",
    "The Dataquest problem that sparked this jump down the rabbit hole:\n",
    "question_overlap = []\n",
    "terms_used = set()\n",
    "\n",
    "for i, row in jeopardy.iterrows():\n",
    "#why are we now using itterrows instead of a for loop? - more efficient - my question.\n",
    "    match_count = 0\n",
    "    split_question = row['clean_question'].split(\" \")\n",
    "    split_question = [q for q in split_question if len(q) > 5]\n",
    " \n",
    "    for word in split_question:\n",
    "        if word in terms_used:\n",
    "            match_count +=1\n",
    "        terms_used.add(word)\n",
    "    if len(split_question) > 0:\n",
    "        match_count /= len(split_question)\n",
    "    question_overlap.append(match_count)\n",
    "     \n",
    "jeopardy['question_overlap'] = question_overlap\n",
    "jeopardy['question_overlap'].mean()\n",
    "\n",
    "\n",
    "Candidates for Fastest Iteration Methods\n",
    "From the pandas docs:\n",
    "\n",
    "Warning Iterating through pandas objects is generally slow. In many cases, iterating manually over the rows is not needed and can be avoided with one of the following approaches:\n",
    "Look for a vectorized solution: many operations can be performed using built-in methods or numpy functions, (boolean) indexing, ...\n",
    "When you have a function that cannot work on the full DataFrame/Series at once, it is better to use apply() instead of iterating over the values. See the docs on function application.\n",
    "If you need to do iterative manipulations on the values but performance is important, consider writing the inner loop using e.g. cython or numba. See the enhancing performance section for some examples of this approach.\n",
    "https://pandas.pydata.org/pandas-docs/stable/basics.html\n",
    "\n",
    "\n",
    " - use a vectorized function: \n",
    "\n",
    "This option is likely to be fastest because pandas is built on numpy and numpy is optimized to do vectorized functions on an entire numpy array. Use whenever possible.\n",
    "\n",
    " - make function and use df.apply( )\n",
    "this is nice for more complex tasks, reusable, clear. Don't know about speed.\n",
    "\n",
    " - use iloc - preserves everything\n",
    "\n",
    " - use itertuples warning \"The column names will be renamed to positional names if they are invalid Python identifiers, repeated, or start with an underscore. With a large number of columns (>255), regular tuples are returned.\" - pandas 0.22.0 docs https://pandas.pydata.org/pandas-docs/stable/generated/pandas.DataFrame.itertuples.html\n",
    "With the above methods available, in what case would one ever use itertuples? \n",
    "\n",
    " - use a for loop with itterrows.\n",
    "in what case would one ever use this?\n",
    "   Slower than itertuples and has other shortcomings:\n",
    " \"Because iterrows returns a Series for each row, it does not preserve dtypes across the rows (dtypes are preserved across columns for DataFrames). For example,\n",
    "\n",
    "To preserve dtypes while iterating over the rows, it is better to use itertuples() which returns namedtuples of the values and which is generally faster than iterrows.\n",
    "\n",
    "You should never modify something you are iterating over. This is not guaranteed to work in all cases. Depending on the data types, the iterator returns a copy and not a view, and writing to it will have no effect. - pandas 0.22.0 docs https://pandas.pydata.org/pandas-docs/stable/generated/pandas.DataFrame.iterrows.html\n",
    "\n",
    "I am assuming here that we are using the Python language only. You could also write the iteration in Cython to make it way faster (see Wes McKinney's answer here: https://stackoverflow.com/questions/7837722/what-is-the-most-efficient-way-to-loop-through-dataframes-with-pandas).\n",
    "\n",
    "A brief list of other SO posts that discuss these options.\n",
    "\n",
    "https://stackoverflow.com/questions/16476924/how-to-iterate-over-rows-in-a-dataframe-in-pandas\n",
    "\n",
    "https://stackoverflow.com/questions/16476924/how-to-iterate-over-rows-in-a-dataframe-in-pandas?rq=1\n",
    "\n",
    "https://stackoverflow.com/questions/7837722/what-is-the-most-efficient-way-to-loop-through-dataframes-with-pandas\n",
    "\n",
    "Other ideas for more speed:\n",
    "Use numpy float32 data type.\n"
   ]
  }
 ],
 "metadata": {
  "kernelspec": {
   "display_name": "Python 3",
   "language": "python",
   "name": "python3"
  },
  "language_info": {
   "codemirror_mode": {
    "name": "ipython",
    "version": 3
   },
   "file_extension": ".py",
   "mimetype": "text/x-python",
   "name": "python",
   "nbconvert_exporter": "python",
   "pygments_lexer": "ipython3",
   "version": "3.6.3"
  }
 },
 "nbformat": 4,
 "nbformat_minor": 2
}
